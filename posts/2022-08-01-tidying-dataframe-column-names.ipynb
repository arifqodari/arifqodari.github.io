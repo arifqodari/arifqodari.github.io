{
 "cells": [
  {
   "cell_type": "raw",
   "metadata": {},
   "source": [
    "---\n",
    "author: \"Arif Qodari\"\n",
    "date: \"2022-08-01\"\n",
    "description: \"A simple script to tidying up messing column names in pandas dataframe\"\n",
    "categories: [pandas, TIL]\n",
    "format:\n",
    "  html:\n",
    "    code-fold: true\n",
    "jupyter: python3\n",
    "---"
   ]
  },
  {
   "cell_type": "markdown",
   "metadata": {},
   "source": [
    "# Tidying Dataframe Column Names"
   ]
  },
  {
   "cell_type": "code",
   "execution_count": 4,
   "metadata": {},
   "outputs": [],
   "source": [
    "#| echo: false\n",
    "\n",
    "import re\n",
    "import pandas as pd"
   ]
  },
  {
   "cell_type": "markdown",
   "metadata": {},
   "source": [
    "Let's use this sample data."
   ]
  },
  {
   "cell_type": "code",
   "execution_count": 3,
   "metadata": {},
   "outputs": [
    {
     "data": {
      "text/html": [
       "<div>\n",
       "<style scoped>\n",
       "    .dataframe tbody tr th:only-of-type {\n",
       "        vertical-align: middle;\n",
       "    }\n",
       "\n",
       "    .dataframe tbody tr th {\n",
       "        vertical-align: top;\n",
       "    }\n",
       "\n",
       "    .dataframe thead th {\n",
       "        text-align: right;\n",
       "    }\n",
       "</style>\n",
       "<table border=\"1\" class=\"dataframe\">\n",
       "  <thead>\n",
       "    <tr style=\"text-align: right;\">\n",
       "      <th></th>\n",
       "      <th>flightNumber</th>\n",
       "      <th>Airline Name</th>\n",
       "      <th>departure  date_time</th>\n",
       "    </tr>\n",
       "  </thead>\n",
       "  <tbody>\n",
       "    <tr>\n",
       "      <th>0</th>\n",
       "      <td>QZ-274</td>\n",
       "      <td>AirAsia Indonesia</td>\n",
       "      <td>2023-11-22 20:30</td>\n",
       "    </tr>\n",
       "    <tr>\n",
       "      <th>1</th>\n",
       "      <td>QG-526</td>\n",
       "      <td>Citilink</td>\n",
       "      <td>2023-11-22 16:20</td>\n",
       "    </tr>\n",
       "    <tr>\n",
       "      <th>2</th>\n",
       "      <td>QG-522</td>\n",
       "      <td>Citilink</td>\n",
       "      <td>2023-11-22 06:00</td>\n",
       "    </tr>\n",
       "  </tbody>\n",
       "</table>\n",
       "</div>"
      ],
      "text/plain": [
       "  flightNumber       Airline Name departure  date_time\n",
       "0       QZ-274  AirAsia Indonesia     2023-11-22 20:30\n",
       "1       QG-526           Citilink     2023-11-22 16:20\n",
       "2       QG-522           Citilink     2023-11-22 06:00"
      ]
     },
     "execution_count": 3,
     "metadata": {},
     "output_type": "execute_result"
    }
   ],
   "source": [
    "df = pd.read_csv(\"https://gist.githubusercontent.com/arifqodari/965b854469b279df026e305864a944c0/raw/43984c8596373d64e602717ed6c3313393c85b2e/flight_dummy.csv\")\n",
    "df"
   ]
  },
  {
   "cell_type": "markdown",
   "metadata": {},
   "source": [
    "Next, let's define our method `tidy_columns` containing series of functions to tidy up the column names.\n",
    "Then apply the function to the dataframe above."
   ]
  },
  {
   "cell_type": "code",
   "execution_count": 5,
   "metadata": {},
   "outputs": [
    {
     "data": {
      "text/html": [
       "<div>\n",
       "<style scoped>\n",
       "    .dataframe tbody tr th:only-of-type {\n",
       "        vertical-align: middle;\n",
       "    }\n",
       "\n",
       "    .dataframe tbody tr th {\n",
       "        vertical-align: top;\n",
       "    }\n",
       "\n",
       "    .dataframe thead th {\n",
       "        text-align: right;\n",
       "    }\n",
       "</style>\n",
       "<table border=\"1\" class=\"dataframe\">\n",
       "  <thead>\n",
       "    <tr style=\"text-align: right;\">\n",
       "      <th></th>\n",
       "      <th>flight_number</th>\n",
       "      <th>airline_name</th>\n",
       "      <th>departure_date_time</th>\n",
       "    </tr>\n",
       "  </thead>\n",
       "  <tbody>\n",
       "    <tr>\n",
       "      <th>0</th>\n",
       "      <td>QZ-274</td>\n",
       "      <td>AirAsia Indonesia</td>\n",
       "      <td>2023-11-22 20:30</td>\n",
       "    </tr>\n",
       "    <tr>\n",
       "      <th>1</th>\n",
       "      <td>QG-526</td>\n",
       "      <td>Citilink</td>\n",
       "      <td>2023-11-22 16:20</td>\n",
       "    </tr>\n",
       "    <tr>\n",
       "      <th>2</th>\n",
       "      <td>QG-522</td>\n",
       "      <td>Citilink</td>\n",
       "      <td>2023-11-22 06:00</td>\n",
       "    </tr>\n",
       "  </tbody>\n",
       "</table>\n",
       "</div>"
      ],
      "text/plain": [
       "  flight_number       airline_name departure_date_time\n",
       "0        QZ-274  AirAsia Indonesia    2023-11-22 20:30\n",
       "1        QG-526           Citilink    2023-11-22 16:20\n",
       "2        QG-522           Citilink    2023-11-22 06:00"
      ]
     },
     "execution_count": 5,
     "metadata": {},
     "output_type": "execute_result"
    }
   ],
   "source": [
    "#| code-fold: false\n",
    "\n",
    "\n",
    "def camel_to_snake(str_):\n",
    "    str_ = re.sub(\"(.)([A-Z][a-z]+)\", r\"\\1 \\2\", str_)\n",
    "    return re.sub(\"([a-z0-9])([A-Z])\", r\"\\1 \\2\", str_).lower()\n",
    "\n",
    "def whitespace_to_underscore(str_):\n",
    "    return re.sub(\"\\s+\", \"_\", str_)\n",
    "\n",
    "def tidy_columns(df):\n",
    "    df.columns = (\n",
    "        df.columns\n",
    "        .str.strip()  # strip text\n",
    "        .map(camel_to_snake)  # change to snake case\n",
    "        .map(whitespace_to_underscore)  # change any whitespace to underscore\n",
    "        .str.lower()  # lowercase\n",
    "        .str.replace(\"(\", \"\")\n",
    "        .str.replace(\")\", \"\")\n",
    "    )\n",
    "    return df\n",
    "\n",
    "\n",
    "tidy_df = tidy_columns(df)\n",
    "tidy_df"
   ]
  },
  {
   "cell_type": "markdown",
   "metadata": {},
   "source": [
    "Neat!\n",
    "The simple method above `tidy_columns` do the following:\n",
    "\n",
    "- strip trailing whitespace\n",
    "- change from camel case to snake case (if any)\n",
    "- replace any whitespace (e.g. space) to underscore\n",
    "- change case to lowercase\n",
    "- remove parentheses\n",
    "\n",
    "**If you think that it needs additional treatment, you can simply create another function that accept a string and return a string and put another `.map(your_function)` in the tidy function above.**"
   ]
  },
  {
   "cell_type": "markdown",
   "metadata": {},
   "source": []
  }
 ],
 "metadata": {
  "kernelspec": {
   "display_name": "ds",
   "language": "python",
   "name": "python3"
  },
  "language_info": {
   "codemirror_mode": {
    "name": "ipython",
    "version": 3
   },
   "file_extension": ".py",
   "mimetype": "text/x-python",
   "name": "python",
   "nbconvert_exporter": "python",
   "pygments_lexer": "ipython3",
   "version": "3.10.12"
  }
 },
 "nbformat": 4,
 "nbformat_minor": 2
}
