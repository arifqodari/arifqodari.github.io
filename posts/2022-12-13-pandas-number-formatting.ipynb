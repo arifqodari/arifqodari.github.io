{
 "cells": [
  {
   "cell_type": "raw",
   "metadata": {},
   "source": [
    "---\n",
    "author: \"Arif Qodari\"\n",
    "date: \"2022-12-13\"\n",
    "categories: [pandas, TIL]\n",
    "format:\n",
    "  html:\n",
    "    code-fold: true\n",
    "---"
   ]
  },
  {
   "cell_type": "markdown",
   "metadata": {
    "vscode": {
     "languageId": "python"
    }
   },
   "source": [
    "# Pandas Number Formatting"
   ]
  },
  {
   "cell_type": "markdown",
   "metadata": {},
   "source": [
    "In many cases we need to apply different number formatting to different columns.\n",
    "One column might need to use currency format, while the other need to use percent format.\n",
    "\n",
    "In this case, Pandas has `Styler.format` feature to do this ([ref](https://pandas.pydata.org/pandas-docs/stable/reference/api/pandas.io.formats.style.Styler.format.html)). \n",
    "We just need to define the formatting function for columns we want to apply on using dictionary where each key represents column name and the value represents formatting function.\n",
    "\n",
    "Here is the example."
   ]
  },
  {
   "cell_type": "code",
   "execution_count": 2,
   "metadata": {},
   "outputs": [],
   "source": [
    "#| echo: false\n",
    "\n",
    "\n",
    "import pandas as pd"
   ]
  },
  {
   "cell_type": "markdown",
   "metadata": {},
   "source": [
    "Let's use this sample data."
   ]
  },
  {
   "cell_type": "code",
   "execution_count": 3,
   "metadata": {},
   "outputs": [
    {
     "data": {
      "text/html": [
       "<div>\n",
       "<style scoped>\n",
       "    .dataframe tbody tr th:only-of-type {\n",
       "        vertical-align: middle;\n",
       "    }\n",
       "\n",
       "    .dataframe tbody tr th {\n",
       "        vertical-align: top;\n",
       "    }\n",
       "\n",
       "    .dataframe thead th {\n",
       "        text-align: right;\n",
       "    }\n",
       "</style>\n",
       "<table border=\"1\" class=\"dataframe\">\n",
       "  <thead>\n",
       "    <tr style=\"text-align: right;\">\n",
       "      <th></th>\n",
       "      <th>date</th>\n",
       "      <th>total_sales</th>\n",
       "      <th>revenue</th>\n",
       "      <th>rate</th>\n",
       "    </tr>\n",
       "  </thead>\n",
       "  <tbody>\n",
       "    <tr>\n",
       "      <th>0</th>\n",
       "      <td>2023-01-01</td>\n",
       "      <td>923</td>\n",
       "      <td>10400500</td>\n",
       "      <td>0.046723</td>\n",
       "    </tr>\n",
       "    <tr>\n",
       "      <th>1</th>\n",
       "      <td>2023-01-02</td>\n",
       "      <td>1104</td>\n",
       "      <td>11299050</td>\n",
       "      <td>0.050123</td>\n",
       "    </tr>\n",
       "    <tr>\n",
       "      <th>2</th>\n",
       "      <td>2023-01-03</td>\n",
       "      <td>987</td>\n",
       "      <td>10904500</td>\n",
       "      <td>0.040111</td>\n",
       "    </tr>\n",
       "  </tbody>\n",
       "</table>\n",
       "</div>"
      ],
      "text/plain": [
       "         date  total_sales   revenue      rate\n",
       "0  2023-01-01          923  10400500  0.046723\n",
       "1  2023-01-02         1104  11299050  0.050123\n",
       "2  2023-01-03          987  10904500  0.040111"
      ]
     },
     "execution_count": 3,
     "metadata": {},
     "output_type": "execute_result"
    }
   ],
   "source": [
    "df = pd.read_csv(\"https://gist.githubusercontent.com/arifqodari/08692800e902401860c7ab4f94c2390c/raw/8e6e4e5c85ab091d6ac21801c2fe02fa6dd1fc77/sales_dummy.csv\")\n",
    "df"
   ]
  },
  {
   "cell_type": "markdown",
   "metadata": {},
   "source": [
    "Next, we can define and apply the formatting function."
   ]
  },
  {
   "cell_type": "code",
   "execution_count": 12,
   "metadata": {},
   "outputs": [
    {
     "data": {
      "text/html": [
       "<style type=\"text/css\">\n",
       "</style>\n",
       "<table id=\"T_6c95a\">\n",
       "  <thead>\n",
       "    <tr>\n",
       "      <th class=\"blank level0\" >&nbsp;</th>\n",
       "      <th id=\"T_6c95a_level0_col0\" class=\"col_heading level0 col0\" >date</th>\n",
       "      <th id=\"T_6c95a_level0_col1\" class=\"col_heading level0 col1\" >total_sales</th>\n",
       "      <th id=\"T_6c95a_level0_col2\" class=\"col_heading level0 col2\" >revenue</th>\n",
       "      <th id=\"T_6c95a_level0_col3\" class=\"col_heading level0 col3\" >rate</th>\n",
       "    </tr>\n",
       "  </thead>\n",
       "  <tbody>\n",
       "    <tr>\n",
       "      <th id=\"T_6c95a_level0_row0\" class=\"row_heading level0 row0\" >0</th>\n",
       "      <td id=\"T_6c95a_row0_col0\" class=\"data row0 col0\" >2023-01-01</td>\n",
       "      <td id=\"T_6c95a_row0_col1\" class=\"data row0 col1\" >923</td>\n",
       "      <td id=\"T_6c95a_row0_col2\" class=\"data row0 col2\" >10,400,500 IDR</td>\n",
       "      <td id=\"T_6c95a_row0_col3\" class=\"data row0 col3\" >4.67%</td>\n",
       "    </tr>\n",
       "    <tr>\n",
       "      <th id=\"T_6c95a_level0_row1\" class=\"row_heading level0 row1\" >1</th>\n",
       "      <td id=\"T_6c95a_row1_col0\" class=\"data row1 col0\" >2023-01-02</td>\n",
       "      <td id=\"T_6c95a_row1_col1\" class=\"data row1 col1\" >1104</td>\n",
       "      <td id=\"T_6c95a_row1_col2\" class=\"data row1 col2\" >11,299,050 IDR</td>\n",
       "      <td id=\"T_6c95a_row1_col3\" class=\"data row1 col3\" >5.01%</td>\n",
       "    </tr>\n",
       "    <tr>\n",
       "      <th id=\"T_6c95a_level0_row2\" class=\"row_heading level0 row2\" >2</th>\n",
       "      <td id=\"T_6c95a_row2_col0\" class=\"data row2 col0\" >2023-01-03</td>\n",
       "      <td id=\"T_6c95a_row2_col1\" class=\"data row2 col1\" >987</td>\n",
       "      <td id=\"T_6c95a_row2_col2\" class=\"data row2 col2\" >10,904,500 IDR</td>\n",
       "      <td id=\"T_6c95a_row2_col3\" class=\"data row2 col3\" >4.01%</td>\n",
       "    </tr>\n",
       "  </tbody>\n",
       "</table>\n"
      ],
      "text/plain": [
       "<pandas.io.formats.style.Styler at 0x12794b550>"
      ]
     },
     "execution_count": 12,
     "metadata": {},
     "output_type": "execute_result"
    }
   ],
   "source": [
    "#| code-fold: false\n",
    "\n",
    "\n",
    "format_mapping = {\n",
    "    \"revenue\": \"{:,} IDR\",\n",
    "    \"rate\": \"{:,.2%}\"\n",
    "}\n",
    "\n",
    "df.style.format(format_mapping)"
   ]
  },
  {
   "cell_type": "markdown",
   "metadata": {},
   "source": [
    "Neat!\n",
    "\n",
    "The script above only apply formatting to certain columns defined in the `format_mapping` dictionary.\n",
    "Here is the explanation:\n",
    "\n",
    "- revenue column needs thousand separator using comma (,)\n",
    "- rate column need to be presented as percentage.\n",
    "\n",
    "    Note that the original value is not in the percentage yet."
   ]
  },
  {
   "cell_type": "markdown",
   "metadata": {},
   "source": []
  }
 ],
 "metadata": {
  "kernelspec": {
   "display_name": "ds",
   "language": "python",
   "name": "python3"
  },
  "language_info": {
   "codemirror_mode": {
    "name": "ipython",
    "version": 3
   },
   "file_extension": ".py",
   "mimetype": "text/x-python",
   "name": "python",
   "nbconvert_exporter": "python",
   "pygments_lexer": "ipython3",
   "version": "3.10.12"
  }
 },
 "nbformat": 4,
 "nbformat_minor": 2
}
